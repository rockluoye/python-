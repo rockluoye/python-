{
 "cells": [
  {
   "cell_type": "markdown",
   "metadata": {},
   "source": [
    "PEP8编码规范"
   ]
  },
  {
   "cell_type": "markdown",
   "metadata": {},
   "source": [
    "导包顺序\n",
    "- 1.导python内置的包\n",
    "- 2.导第三方库\n",
    "- 3.导自定义包"
   ]
  },
  {
   "cell_type": "markdown",
   "metadata": {},
   "source": [
    "- \\*和**的用法"
   ]
  },
  {
   "cell_type": "code",
   "execution_count": 1,
   "metadata": {},
   "outputs": [],
   "source": [
    "\"\"\"\n",
    "*args为位置不定长参数，\n",
    "**kwargs为关键字参数\n",
    "\"\"\"\n",
    "def foo(*args,**kwargs): \n",
    "    print(args,kwargs)"
   ]
  },
  {
   "cell_type": "code",
   "execution_count": 2,
   "metadata": {},
   "outputs": [
    {
     "name": "stdout",
     "output_type": "stream",
     "text": [
      "(1, 2, 3) {'a': 22, 'b': 77}\n"
     ]
    }
   ],
   "source": [
    "lst = [1,2,3]\n",
    "dic = {'a':22,'b':77}\n",
    "foo(*lst, **dic)"
   ]
  },
  {
   "cell_type": "code",
   "execution_count": 3,
   "metadata": {},
   "outputs": [],
   "source": [
    "def foo(x,y,z,a,b):\n",
    "    print(x)\n",
    "    print(y)\n",
    "    print(z)\n",
    "    print(a)\n",
    "    print(b)"
   ]
  },
  {
   "cell_type": "code",
   "execution_count": 4,
   "metadata": {
    "scrolled": true
   },
   "outputs": [
    {
     "name": "stdout",
     "output_type": "stream",
     "text": [
      "1\n",
      "2\n",
      "3\n",
      "22\n",
      "77\n"
     ]
    }
   ],
   "source": [
    "lst = [1,2,3]\n",
    "dic = {'a':22,'b':77}\n",
    "# 解包\n",
    "foo(*lst, **dic)"
   ]
  },
  {
   "cell_type": "code",
   "execution_count": 5,
   "metadata": {},
   "outputs": [],
   "source": [
    "x = 2"
   ]
  },
  {
   "cell_type": "markdown",
   "metadata": {},
   "source": [
    "from a import * 的用法\n",
    "- 会覆盖与ａ先导包的与ａ同名的属性或方法"
   ]
  },
  {
   "cell_type": "code",
   "execution_count": 6,
   "metadata": {},
   "outputs": [],
   "source": [
    "# 如ａ中有sys = 'abc',会覆盖　import sys这个导包\n",
    "# import sys\n",
    "# from a import *\n",
    "# print(sys.path) "
   ]
  },
  {
   "cell_type": "code",
   "execution_count": 7,
   "metadata": {},
   "outputs": [],
   "source": [
    "# 若一定要用到*号时，可在ａ中使用__all__ = ['a', 'b', 'c'] 将ｓｙｓ排除在外\n",
    "# __all__ 指明可以被导入的方法\n",
    "__all__ = ['a', 'b', 'c']\n",
    "a = 1\n",
    "b = 2\n",
    "c = 3\n",
    "sys = 'python'"
   ]
  },
  {
   "cell_type": "code",
   "execution_count": 8,
   "metadata": {},
   "outputs": [],
   "source": [
    "# _a 或 __a　表示私有变量，不会在import 中导入\n",
    "_a = 1\n",
    "_b = 2\n",
    "_sys = 3"
   ]
  },
  {
   "cell_type": "code",
   "execution_count": 9,
   "metadata": {},
   "outputs": [
    {
     "name": "stdout",
     "output_type": "stream",
     "text": [
      "1 [2, 3, 4, 5] 6\n"
     ]
    }
   ],
   "source": [
    "# *在赋值时的应用\n",
    "l = [1,2,3,4,5,6]\n",
    "a, *b, c = l\n",
    "print(a,b,c)"
   ]
  },
  {
   "cell_type": "markdown",
   "metadata": {},
   "source": [
    "## 引用和赋值"
   ]
  },
  {
   "cell_type": "markdown",
   "metadata": {},
   "source": [
    "- == 和is:　==判断的是值 is判断的是内存地址\n",
    "- 小整数对象[-5,256]：在小整数对象的范围中ｉｎｔ赋值如：ａ＝３，ｐｙｔｈｏｎ解释器为了内部优化，引用的都是相同的内存地址\n",
    "- copy:只拷贝表层元素\n",
    "- deepcopy:在内存中重新创建所有只元素"
   ]
  },
  {
   "cell_type": "code",
   "execution_count": 10,
   "metadata": {},
   "outputs": [],
   "source": [
    "from copy import copy,deepcopy\n",
    "from pickle import dumps,loads"
   ]
  },
  {
   "cell_type": "code",
   "execution_count": 11,
   "metadata": {},
   "outputs": [
    {
     "name": "stdout",
     "output_type": "stream",
     "text": [
      "[['x', 'y', 'z'], ['x', 'y', 'z'], ['x', 'y', 'z']]\n"
     ]
    }
   ],
   "source": [
    "# 简单的地址引用\n",
    "a = ['x','y','z']\n",
    "b = [a] * 3\n",
    "print(b)"
   ]
  },
  {
   "cell_type": "code",
   "execution_count": 12,
   "metadata": {},
   "outputs": [
    {
     "data": {
      "text/plain": [
       "True"
      ]
     },
     "execution_count": 12,
     "metadata": {},
     "output_type": "execute_result"
    }
   ],
   "source": [
    "b[1] is a"
   ]
  },
  {
   "cell_type": "code",
   "execution_count": 13,
   "metadata": {},
   "outputs": [
    {
     "name": "stdout",
     "output_type": "stream",
     "text": [
      "False\n",
      "True\n"
     ]
    }
   ],
   "source": [
    "c =copy(b)\n",
    "print(c is b)\n",
    "print(c[1] is a) # 浅拷贝，只拷贝了表层元素"
   ]
  },
  {
   "cell_type": "code",
   "execution_count": 14,
   "metadata": {},
   "outputs": [
    {
     "name": "stdout",
     "output_type": "stream",
     "text": [
      "False\n",
      "False\n"
     ]
    }
   ],
   "source": [
    "c = deepcopy(b)\n",
    "print(c is b)\n",
    "print(c[1] is a) # 深拷贝，拷贝所有的子元素"
   ]
  },
  {
   "cell_type": "code",
   "execution_count": 15,
   "metadata": {},
   "outputs": [
    {
     "name": "stdout",
     "output_type": "stream",
     "text": [
      "False\n",
      "False\n"
     ]
    }
   ],
   "source": [
    "# 使用序列化与反序列化拷贝对象,为深拷贝\n",
    "e = loads(dumps(b))\n",
    "print(e is b)\n",
    "print(e[1] is a)\n",
    "# 自定义deepcopy: my_deepcopy = lambda item: loads(dumps(item,4))"
   ]
  },
  {
   "cell_type": "code",
   "execution_count": 16,
   "metadata": {},
   "outputs": [],
   "source": [
    "# 有个ｐｒｏｔｏｃｏｌ协议，表示向后兼容，默认为３，\n",
    "# ｐｙｔｈｐｎ版本越高支持的协议更多,以下设置为４协议\n",
    "my_deepcopy = lambda item: loads(dumps(item,4))"
   ]
  },
  {
   "cell_type": "markdown",
   "metadata": {},
   "source": [
    "## 生成器和迭代器"
   ]
  },
  {
   "cell_type": "markdown",
   "metadata": {},
   "source": [
    "- 生成器"
   ]
  },
  {
   "cell_type": "code",
   "execution_count": 41,
   "metadata": {},
   "outputs": [],
   "source": [
    "#　简单的生成器\n",
    "def foo():\n",
    "    for i in range(100):\n",
    "        yield i"
   ]
  },
  {
   "cell_type": "code",
   "execution_count": 42,
   "metadata": {},
   "outputs": [
    {
     "data": {
      "text/plain": [
       "<function __main__.foo>"
      ]
     },
     "execution_count": 42,
     "metadata": {},
     "output_type": "execute_result"
    }
   ],
   "source": [
    "foo"
   ]
  },
  {
   "cell_type": "code",
   "execution_count": 43,
   "metadata": {},
   "outputs": [
    {
     "data": {
      "text/plain": [
       "<generator object foo at 0x7fbc30603af0>"
      ]
     },
     "execution_count": 43,
     "metadata": {},
     "output_type": "execute_result"
    }
   ],
   "source": [
    "f = foo()\n",
    "f"
   ]
  },
  {
   "cell_type": "code",
   "execution_count": 54,
   "metadata": {},
   "outputs": [
    {
     "data": {
      "text/plain": [
       "10"
      ]
     },
     "execution_count": 54,
     "metadata": {},
     "output_type": "execute_result"
    }
   ],
   "source": [
    "# 生成器的调用\n",
    "next(f)"
   ]
  },
  {
   "cell_type": "code",
   "execution_count": 26,
   "metadata": {
    "collapsed": true
   },
   "outputs": [
    {
     "name": "stdout",
     "output_type": "stream",
     "text": [
      "111\n",
      "111\n",
      "222\n",
      "222\n",
      "333\n",
      "333\n"
     ]
    }
   ],
   "source": [
    "# 使用ｆｏｒ循环可以识别生成器的StopIteration错误为停止调用\n",
    "for i in f:\n",
    "    print(i)"
   ]
  },
  {
   "cell_type": "markdown",
   "metadata": {},
   "source": [
    "使用生成器实现斐波那契数列"
   ]
  },
  {
   "cell_type": "code",
   "execution_count": 39,
   "metadata": {},
   "outputs": [],
   "source": [
    "def fab(n):\n",
    "    cur = 1\n",
    "    pre = 0\n",
    "    time = 0\n",
    "    while time < n:\n",
    "        cur, pre = pre + cur, cur\n",
    "#         print(pre)\n",
    "        time += 1\n",
    "        yield pre\n",
    "    "
   ]
  },
  {
   "cell_type": "code",
   "execution_count": 40,
   "metadata": {},
   "outputs": [
    {
     "name": "stdout",
     "output_type": "stream",
     "text": [
      "1\n",
      "1\n",
      "2\n",
      "3\n",
      "5\n",
      "8\n",
      "13\n",
      "21\n",
      "34\n",
      "55\n"
     ]
    }
   ],
   "source": [
    "for i in fab(10):\n",
    "    print(i)"
   ]
  },
  {
   "cell_type": "markdown",
   "metadata": {},
   "source": [
    "- 迭代器"
   ]
  },
  {
   "cell_type": "markdown",
   "metadata": {},
   "source": [
    "- 迭代器的定义：实现的\\__next\\__和\\__iter\\__的类就是迭代器\n",
    "- 可迭代对象就是可以被ｆｏｒ循环遍历\n",
    "- 迭代器一定是可迭代对象，但可迭代对象并不是迭代器"
   ]
  },
  {
   "cell_type": "code",
   "execution_count": 55,
   "metadata": {},
   "outputs": [
    {
     "data": {
      "text/plain": [
       "<list_iterator at 0x7fbc3060a5f8>"
      ]
     },
     "execution_count": 55,
     "metadata": {},
     "output_type": "execute_result"
    }
   ],
   "source": [
    "l = [1,2,3,4,5]\n",
    "l.__iter__()"
   ]
  },
  {
   "cell_type": "code",
   "execution_count": 56,
   "metadata": {},
   "outputs": [
    {
     "data": {
      "text/plain": [
       "<dict_keyiterator at 0x7fbc30604728>"
      ]
     },
     "execution_count": 56,
     "metadata": {},
     "output_type": "execute_result"
    }
   ],
   "source": [
    "d = {'a':1,'b':2}\n",
    "d.__iter__()"
   ]
  },
  {
   "cell_type": "code",
   "execution_count": 130,
   "metadata": {},
   "outputs": [],
   "source": [
    "# 实现原生range\n",
    "# __next__就是返回下一个元素，一般在__next__中书写迭代器的逻辑\n",
    "# __iter__什么也不做，返回自身即可\n",
    "class Range:\n",
    "    \n",
    "    \n",
    "    def __init__(self,start,stop=None,step=1):\n",
    "        if stop == None:\n",
    "            self.start = 0\n",
    "            self.stop = start\n",
    "        else:\n",
    "            self.start = start\n",
    "            self.stop = stop\n",
    "        self.step = step\n",
    "        \n",
    "        \n",
    "    def __iter__(self):\n",
    "        return self\n",
    "    \n",
    "    \n",
    "    def __next__(self):\n",
    "        if self.start < self.stop:\n",
    "            cur = self.start\n",
    "            self.start = self.start + self.step\n",
    "            return cur\n",
    "        else:\n",
    "            raise StopIteration()"
   ]
  },
  {
   "cell_type": "code",
   "execution_count": 131,
   "metadata": {
    "collapsed": true
   },
   "outputs": [
    {
     "name": "stdout",
     "output_type": "stream",
     "text": [
      "1\n",
      "2\n",
      "3\n",
      "4\n",
      "5\n",
      "6\n",
      "7\n",
      "8\n",
      "9\n"
     ]
    }
   ],
   "source": [
    "for i in Range(1,10):\n",
    "    print(i)"
   ]
  },
  {
   "cell_type": "markdown",
   "metadata": {},
   "source": [
    "### 迭代器版本的斐波那契数列"
   ]
  },
  {
   "cell_type": "code",
   "execution_count": 80,
   "metadata": {},
   "outputs": [],
   "source": [
    "class Fab:\n",
    "    =\n",
    "    \n",
    "    def __init__(self,n):\n",
    "        self.cur = 1\n",
    "        self.pre = 0\n",
    "        self.stop = n\n",
    "        self.time = 0\n",
    "    \n",
    "    def __iter__(self):\n",
    "        return self\n",
    "    \n",
    "    def __next__(self):\n",
    "        if self.time < self.stop:\n",
    "            self.cur, self.pre = self.cur + self.pre, self.cur\n",
    "            self.time += 1\n",
    "            return self.pre\n",
    "        else:\n",
    "            raise StopIteration"
   ]
  },
  {
   "cell_type": "code",
   "execution_count": 81,
   "metadata": {},
   "outputs": [
    {
     "name": "stdout",
     "output_type": "stream",
     "text": [
      "1\n",
      "1\n",
      "2\n",
      "3\n",
      "5\n",
      "8\n",
      "13\n",
      "21\n",
      "34\n",
      "55\n"
     ]
    }
   ],
   "source": [
    "for i in Fab(10):\n",
    "    print(i)"
   ]
  },
  {
   "cell_type": "markdown",
   "metadata": {},
   "source": [
    "递归版本的斐波那契数列"
   ]
  },
  {
   "cell_type": "code",
   "execution_count": 82,
   "metadata": {},
   "outputs": [],
   "source": [
    "def fab(n):\n",
    "    if n <=2:\n",
    "        return 1\n",
    "    else:\n",
    "        return fab(n-1) + fab(n-2)"
   ]
  },
  {
   "cell_type": "code",
   "execution_count": 83,
   "metadata": {},
   "outputs": [
    {
     "data": {
      "text/plain": [
       "13"
      ]
     },
     "execution_count": 83,
     "metadata": {},
     "output_type": "execute_result"
    }
   ],
   "source": [
    "fab(7)"
   ]
  },
  {
   "cell_type": "markdown",
   "metadata": {},
   "source": [
    "str/list/dict/tuple/bytes/set他们自身不是迭代器，他们本身没有\\__next\\__,但是具有\\__iter\\__方法将本身转化为迭代器"
   ]
  },
  {
   "cell_type": "code",
   "execution_count": 86,
   "metadata": {},
   "outputs": [
    {
     "data": {
      "text/plain": [
       "<list_iterator at 0x7fbc3057e2b0>"
      ]
     },
     "execution_count": 86,
     "metadata": {},
     "output_type": "execute_result"
    }
   ],
   "source": [
    "l = [1,2,3,4,5]\n",
    "l.__iter__()"
   ]
  },
  {
   "cell_type": "code",
   "execution_count": 88,
   "metadata": {
    "collapsed": true
   },
   "outputs": [
    {
     "ename": "AttributeError",
     "evalue": "'list' object has no attribute '__next__'",
     "output_type": "error",
     "traceback": [
      "\u001b[0;31m---------------------------------------------------------------------------\u001b[0m",
      "\u001b[0;31mAttributeError\u001b[0m                            Traceback (most recent call last)",
      "\u001b[0;32m<ipython-input-88-731686253790>\u001b[0m in \u001b[0;36m<module>\u001b[0;34m()\u001b[0m\n\u001b[0;32m----> 1\u001b[0;31m \u001b[0ml\u001b[0m\u001b[0;34m.\u001b[0m\u001b[0m__next__\u001b[0m\u001b[0;34m(\u001b[0m\u001b[0;34m)\u001b[0m\u001b[0;34m\u001b[0m\u001b[0m\n\u001b[0m",
      "\u001b[0;31mAttributeError\u001b[0m: 'list' object has no attribute '__next__'"
     ]
    }
   ],
   "source": [
    "l.__next__()"
   ]
  },
  {
   "cell_type": "code",
   "execution_count": 91,
   "metadata": {},
   "outputs": [
    {
     "data": {
      "text/plain": [
       "80"
      ]
     },
     "execution_count": 91,
     "metadata": {},
     "output_type": "execute_result"
    }
   ],
   "source": [
    "l.__sizeof__() # 显示内存所占长度，单位为字节"
   ]
  },
  {
   "cell_type": "markdown",
   "metadata": {},
   "source": [
    "三个推导式"
   ]
  },
  {
   "cell_type": "code",
   "execution_count": 94,
   "metadata": {},
   "outputs": [
    {
     "data": {
      "text/plain": [
       "{0, 5}"
      ]
     },
     "execution_count": 94,
     "metadata": {},
     "output_type": "execute_result"
    }
   ],
   "source": [
    "[i * 3 for i in range(10) if i % 2 == 0]\n",
    "{str(i):i for i in range(10) if i % 3 == 0}\n",
    "{i for i in range(10) if i % 5 == 0}"
   ]
  },
  {
   "cell_type": "markdown",
   "metadata": {},
   "source": [
    "## 简单装饰器"
   ]
  },
  {
   "cell_type": "code",
   "execution_count": 95,
   "metadata": {},
   "outputs": [],
   "source": [
    "# 最基础的装饰器\n",
    "def deco(func):\n",
    "    def inner(*args,**kwagrs):\n",
    "        return func(*args,**kwagrs)\n",
    "    return inner"
   ]
  },
  {
   "cell_type": "code",
   "execution_count": 96,
   "metadata": {},
   "outputs": [],
   "source": [
    "# 最经常的面试题\n",
    "import time\n",
    "def deco(func):\n",
    "    def inner(*args,**kwagrs):\n",
    "        start = time.time()\n",
    "        func(*args,**kwagrs)\n",
    "        stop = time.time()\n",
    "        print(stop-start)\n",
    "        return stop-start\n",
    "    return inner"
   ]
  },
  {
   "cell_type": "code",
   "execution_count": 99,
   "metadata": {},
   "outputs": [
    {
     "name": "stdout",
     "output_type": "stream",
     "text": [
      "1.9841856956481934\n"
     ]
    },
    {
     "data": {
      "text/plain": [
       "1.9841856956481934"
      ]
     },
     "execution_count": 99,
     "metadata": {},
     "output_type": "execute_result"
    }
   ],
   "source": [
    "@deco\n",
    "def foo():\n",
    "    for i in range(100000000):\n",
    "        pass\n",
    "foo()"
   ]
  },
  {
   "cell_type": "markdown",
   "metadata": {},
   "source": [
    "### 带参数的装饰器"
   ]
  },
  {
   "cell_type": "code",
   "execution_count": 102,
   "metadata": {},
   "outputs": [],
   "source": [
    "# 注意＠是ｐｙｔｈｏｎ的语法糖\n",
    "# 其执行的过程相当于\n",
    "foo = deco(foo)\n",
    "# 于是不难理解带参数的装饰器就是在最外层加一层函数，即\n",
    "# foo = deco(1000)(foo)"
   ]
  },
  {
   "cell_type": "code",
   "execution_count": 114,
   "metadata": {},
   "outputs": [],
   "source": [
    "import time\n",
    "\n",
    "def deco(n):\n",
    "    print(n)\n",
    "    def warpper(func):\n",
    "        \"\"\"reutrn inner\"\"\"\n",
    "        print('a')\n",
    "        def inner(*args,**kwagrs):\n",
    "            \"\"\"this is inner\"\"\"\n",
    "            start = time.time()\n",
    "            func(*args,**kwagrs)\n",
    "            stop = time.time()\n",
    "            print(stop-start)\n",
    "            return stop-start\n",
    "        return inner\n",
    "    return warpper"
   ]
  },
  {
   "cell_type": "code",
   "execution_count": 106,
   "metadata": {},
   "outputs": [
    {
     "name": "stdout",
     "output_type": "stream",
     "text": [
      "10000\n",
      "a\n"
     ]
    }
   ],
   "source": [
    "@deco(10000)\n",
    "def foo():\n",
    "    for i in range(100000000):\n",
    "        pass"
   ]
  },
  {
   "cell_type": "code",
   "execution_count": 107,
   "metadata": {},
   "outputs": [
    {
     "name": "stdout",
     "output_type": "stream",
     "text": [
      "2.0033621788024902\n"
     ]
    },
    {
     "data": {
      "text/plain": [
       "2.0033621788024902"
      ]
     },
     "execution_count": 107,
     "metadata": {},
     "output_type": "execute_result"
    }
   ],
   "source": [
    "foo()"
   ]
  },
  {
   "cell_type": "markdown",
   "metadata": {},
   "source": [
    "#### 函数是否被装饰器修改了"
   ]
  },
  {
   "cell_type": "code",
   "execution_count": 115,
   "metadata": {},
   "outputs": [
    {
     "name": "stdout",
     "output_type": "stream",
     "text": [
      "10000\n",
      "a\n"
     ]
    }
   ],
   "source": [
    "@deco(10000)\n",
    "def foo():\n",
    "    \"\"\"return None\"\"\"\n",
    "    for i in range(100000000):\n",
    "        pass"
   ]
  },
  {
   "cell_type": "code",
   "execution_count": 116,
   "metadata": {},
   "outputs": [
    {
     "data": {
      "text/plain": [
       "'this is inner'"
      ]
     },
     "execution_count": 116,
     "metadata": {},
     "output_type": "execute_result"
    }
   ],
   "source": [
    "foo.__doc__"
   ]
  },
  {
   "cell_type": "code",
   "execution_count": 117,
   "metadata": {},
   "outputs": [
    {
     "data": {
      "text/plain": [
       "'inner'"
      ]
     },
     "execution_count": 117,
     "metadata": {},
     "output_type": "execute_result"
    }
   ],
   "source": [
    "foo.__name__"
   ]
  },
  {
   "cell_type": "code",
   "execution_count": 118,
   "metadata": {},
   "outputs": [],
   "source": [
    "# 由上可知函数已经被装饰器所修改了\n",
    "# 使用ｐｙｔｈｏｎ内置包修改\n",
    "from functools import wraps"
   ]
  },
  {
   "cell_type": "code",
   "execution_count": 120,
   "metadata": {},
   "outputs": [],
   "source": [
    "import time\n",
    "\n",
    "def deco(n):\n",
    "    def warpper(func):\n",
    "        \"\"\"reutrn inner\"\"\"\n",
    "        @wraps(func)\n",
    "        def inner(*args,**kwagrs):\n",
    "            \"\"\"this is inner\"\"\"\n",
    "            start = time.time()\n",
    "            func(*args,**kwagrs)\n",
    "            stop = time.time()\n",
    "            print(stop-start)\n",
    "            return stop-start\n",
    "        return inner\n",
    "    return warpper"
   ]
  },
  {
   "cell_type": "code",
   "execution_count": 121,
   "metadata": {},
   "outputs": [],
   "source": [
    "@deco(10000)\n",
    "def foo():\n",
    "    \"\"\"return None\"\"\"\n",
    "    for i in range(100000000):\n",
    "        pass"
   ]
  },
  {
   "cell_type": "code",
   "execution_count": 122,
   "metadata": {},
   "outputs": [
    {
     "data": {
      "text/plain": [
       "'return None'"
      ]
     },
     "execution_count": 122,
     "metadata": {},
     "output_type": "execute_result"
    }
   ],
   "source": [
    "foo.__doc__"
   ]
  },
  {
   "cell_type": "code",
   "execution_count": 123,
   "metadata": {},
   "outputs": [
    {
     "data": {
      "text/plain": [
       "'foo'"
      ]
     },
     "execution_count": 123,
     "metadata": {},
     "output_type": "execute_result"
    }
   ],
   "source": [
    "foo.__name__"
   ]
  },
  {
   "cell_type": "markdown",
   "metadata": {},
   "source": [
    "### 多层装饰器的调用过程"
   ]
  },
  {
   "cell_type": "code",
   "execution_count": 124,
   "metadata": {},
   "outputs": [],
   "source": [
    "def deco1(func):\n",
    "    print(\"start deco1\")\n",
    "    def inner(*args,**kwagrs):\n",
    "        print(\"stop deco1\")\n",
    "        return func(*args,**kwagrs)\n",
    "    return inner"
   ]
  },
  {
   "cell_type": "code",
   "execution_count": 125,
   "metadata": {},
   "outputs": [],
   "source": [
    "def deco2(func):\n",
    "    print(\"start deco2\")\n",
    "    def inner(*args,**kwagrs):\n",
    "        print(\"stop deco2\")\n",
    "        return func(*args,**kwagrs)\n",
    "    return inner"
   ]
  },
  {
   "cell_type": "code",
   "execution_count": 126,
   "metadata": {},
   "outputs": [],
   "source": [
    "def deco3(func):\n",
    "    print(\"start deco3\")\n",
    "    def inner(*args,**kwagrs):\n",
    "        print(\"stop deco3\")\n",
    "        return func(*args,**kwagrs)\n",
    "    return inner"
   ]
  },
  {
   "cell_type": "code",
   "execution_count": 127,
   "metadata": {},
   "outputs": [
    {
     "name": "stdout",
     "output_type": "stream",
     "text": [
      "start deco3\n",
      "start deco2\n",
      "start deco1\n"
     ]
    }
   ],
   "source": [
    "@deco1\n",
    "@deco2\n",
    "@deco3\n",
    "def foo1(x,y):\n",
    "    return x ** y\n",
    "# 原理为\n",
    "# foo = deco1(deco2(deco3(foo)))"
   ]
  },
  {
   "cell_type": "code",
   "execution_count": 128,
   "metadata": {
    "scrolled": true
   },
   "outputs": [
    {
     "name": "stdout",
     "output_type": "stream",
     "text": [
      "stop deco1\n",
      "stop deco2\n",
      "stop deco3\n"
     ]
    },
    {
     "data": {
      "text/plain": [
       "10000000000"
      ]
     },
     "execution_count": 128,
     "metadata": {},
     "output_type": "execute_result"
    }
   ],
   "source": [
    "foo1(10,10)"
   ]
  },
  {
   "cell_type": "markdown",
   "metadata": {},
   "source": [
    "###### 由上知从内——》外——》内"
   ]
  },
  {
   "cell_type": "markdown",
   "metadata": {},
   "source": [
    "### 类装饰器"
   ]
  },
  {
   "cell_type": "code",
   "execution_count": 144,
   "metadata": {},
   "outputs": [],
   "source": [
    "class Deco:\n",
    "    def __init__(self, func):\n",
    "        self.func = func\n",
    "    def __call__(self,*args, **kwargs):\n",
    "        print('decoed')\n",
    "        return self.func(*args, **kwargs)"
   ]
  },
  {
   "cell_type": "code",
   "execution_count": 145,
   "metadata": {},
   "outputs": [],
   "source": [
    "@Deco\n",
    "def foo():\n",
    "    for i in range(100000000):\n",
    "        pass"
   ]
  },
  {
   "cell_type": "code",
   "execution_count": 147,
   "metadata": {},
   "outputs": [
    {
     "name": "stdout",
     "output_type": "stream",
     "text": [
      "decoed\n"
     ]
    }
   ],
   "source": [
    "foo()"
   ]
  },
  {
   "cell_type": "markdown",
   "metadata": {},
   "source": [
    "#### 带参数的类装饰器"
   ]
  },
  {
   "cell_type": "code",
   "execution_count": 149,
   "metadata": {},
   "outputs": [],
   "source": [
    "class Deco:\n",
    "    def __init__(self,n):\n",
    "        self.n = n\n",
    "        \n",
    "    def __call__(self, func):\n",
    "        def inner(*args,**kwargs):\n",
    "            print('decoed')\n",
    "            return func(*args,**kwargs)\n",
    "        return inner"
   ]
  },
  {
   "cell_type": "code",
   "execution_count": 151,
   "metadata": {},
   "outputs": [
    {
     "name": "stdout",
     "output_type": "stream",
     "text": [
      "decoed\n",
      "99999999\n"
     ]
    }
   ],
   "source": [
    "@Deco(100)\n",
    "def foo():\n",
    "    for i in range(100000000):\n",
    "        pass\n",
    "    print(i)\n",
    "foo()"
   ]
  },
  {
   "cell_type": "markdown",
   "metadata": {},
   "source": [
    "### 函数的闭包"
   ]
  },
  {
   "cell_type": "markdown",
   "metadata": {},
   "source": [
    "##### 引用了自由变量的函数就是闭包，这个被函数引用的自由变量随函数一同存在，即便离开创造了他的环境也不例外"
   ]
  },
  {
   "cell_type": "code",
   "execution_count": 173,
   "metadata": {},
   "outputs": [],
   "source": [
    "def foo():\n",
    "    l = []\n",
    "    def bar(i):\n",
    "        l.append(i)\n",
    "        return l\n",
    "    return bar"
   ]
  },
  {
   "cell_type": "code",
   "execution_count": 174,
   "metadata": {},
   "outputs": [],
   "source": [
    "f1 = foo()"
   ]
  },
  {
   "cell_type": "code",
   "execution_count": 175,
   "metadata": {},
   "outputs": [
    {
     "data": {
      "text/plain": [
       "[1]"
      ]
     },
     "execution_count": 175,
     "metadata": {},
     "output_type": "execute_result"
    }
   ],
   "source": [
    "f1(1)"
   ]
  },
  {
   "cell_type": "code",
   "execution_count": 176,
   "metadata": {},
   "outputs": [
    {
     "data": {
      "text/plain": [
       "[1, 2]"
      ]
     },
     "execution_count": 176,
     "metadata": {},
     "output_type": "execute_result"
    }
   ],
   "source": [
    "f1(2)"
   ]
  },
  {
   "cell_type": "code",
   "execution_count": 178,
   "metadata": {},
   "outputs": [],
   "source": [
    "f2 = foo()"
   ]
  },
  {
   "cell_type": "code",
   "execution_count": 179,
   "metadata": {
    "scrolled": true
   },
   "outputs": [
    {
     "data": {
      "text/plain": [
       "[4]"
      ]
     },
     "execution_count": 179,
     "metadata": {},
     "output_type": "execute_result"
    }
   ],
   "source": [
    "f2(4)"
   ]
  },
  {
   "cell_type": "code",
   "execution_count": 180,
   "metadata": {},
   "outputs": [
    {
     "data": {
      "text/plain": [
       "(<cell at 0x7fbc3061ac18: list object at 0x7fbc3042e8c8>,)"
      ]
     },
     "execution_count": 180,
     "metadata": {},
     "output_type": "execute_result"
    }
   ],
   "source": [
    "f1.__closure__"
   ]
  },
  {
   "cell_type": "markdown",
   "metadata": {},
   "source": [
    "### 作用域的优先：local namespace-->global namespace--->built-in namespace python内置作用域"
   ]
  },
  {
   "cell_type": "code",
   "execution_count": 212,
   "metadata": {},
   "outputs": [],
   "source": [
    "# 查看全局变量：globals()\n",
    "# 查看局部变量:locals()\n",
    "# 查看变量　vars() 不传参相当于ｌｏｃａｌ（）　传参后得到object.__dict__\n",
    "# 声明非本层的局部变量　nonlocal"
   ]
  },
  {
   "cell_type": "markdown",
   "metadata": {},
   "source": [
    "## 类方法和静态方法"
   ]
  },
  {
   "cell_type": "markdown",
   "metadata": {},
   "source": [
    "- method 普通方法\n",
    "    - 通过实例调用\n",
    "    - 可以引用类内部的任何方法和属性\n",
    "    - 第一个参数是ｓｅｌｆ\n",
    "- classmethod\n",
    "    - 无需实例化\n",
    "    - 可以调用类属性和类方法\n",
    "    - 无法获取到普通的成员方法和属性　\n",
    "    - 第一个参数是ｃｌｓ，表示类本身\n",
    "- staticmmethod\n",
    "    - 无需实例化\n",
    "    - 无法获取到类内部的任何属性和方法，完全独立的一个方法\n",
    "    - 无需传任何参数"
   ]
  },
  {
   "cell_type": "code",
   "execution_count": 1,
   "metadata": {},
   "outputs": [],
   "source": [
    "class Test:\n",
    "    # 类属性\n",
    "    x = 123\n",
    "    \n",
    "    def __init__(self):\n",
    "        # 实例属性\n",
    "        self.y = 456\n",
    "    \n",
    "    # 普通方法\n",
    "    def bar1(self):\n",
    "        print('i am a mmethod')\n",
    "        \n",
    "    @classmethod\n",
    "    def bar2(cls):\n",
    "        print('i am classmethod')\n",
    "        \n",
    "    @staticmethod\n",
    "    def bar3():\n",
    "        print('i am staticmethod')\n",
    "        \n",
    "#     普通方法\n",
    "    def foo1(self):\n",
    "        print(self.x)\n",
    "        print(self.y)\n",
    "        self.bar1()\n",
    "        self.bar2()\n",
    "        self.bar3()\n",
    "        \n",
    "    @classmethod\n",
    "    def foo2(cls):\n",
    "        print(cls.x)\n",
    "#         print(cls.y)  # 会报错\n",
    "#         cls.bar1()  # 会报错\n",
    "        cls.bar2()\n",
    "        cls.bar3()\n",
    "    \n",
    "    @staticmethod\n",
    "    def foo3(obj):  # 当不传ｏｂｊ时，静态方法获取不到任何方法和属性\n",
    "        print(obj.x)\n",
    "        print(obj.y)\n",
    "        obj.bar1()\n",
    "        obj.bar2()\n",
    "        obj.bar3()\n",
    "        "
   ]
  },
  {
   "cell_type": "code",
   "execution_count": 2,
   "metadata": {},
   "outputs": [],
   "source": [
    "f = Test()"
   ]
  },
  {
   "cell_type": "code",
   "execution_count": 3,
   "metadata": {},
   "outputs": [
    {
     "name": "stdout",
     "output_type": "stream",
     "text": [
      "123\n",
      "456\n",
      "i am a mmethod\n",
      "i am classmethod\n",
      "i am staticmethod\n"
     ]
    }
   ],
   "source": [
    "f.foo1()"
   ]
  },
  {
   "cell_type": "code",
   "execution_count": 4,
   "metadata": {},
   "outputs": [
    {
     "name": "stdout",
     "output_type": "stream",
     "text": [
      "123\n",
      "i am classmethod\n",
      "i am staticmethod\n"
     ]
    }
   ],
   "source": [
    "f.foo2()"
   ]
  },
  {
   "cell_type": "code",
   "execution_count": 8,
   "metadata": {
    "scrolled": true
   },
   "outputs": [
    {
     "name": "stdout",
     "output_type": "stream",
     "text": [
      "123\n",
      "456\n",
      "i am a mmethod\n",
      "i am classmethod\n",
      "i am staticmethod\n"
     ]
    }
   ],
   "source": [
    "f.foo3(f) # 必须要传实例对象"
   ]
  },
  {
   "cell_type": "markdown",
   "metadata": {},
   "source": [
    "### 总结\n",
    "- 实例方法，第一个参数是ｓｅｌｆ，可以获取类内部的任何属性和方法\n",
    "- 类方法，需要用ｃｌａｓｓｍｅｔｈｏｄ装饰器装饰，第一个参数是ｃｌｓ，代表类本身，只能获取类内部的任何属性和方法\n",
    "- 静态方法，需要用ｓｔａｔｉｃｍｅｔｈｏｄ装饰，无需参数，不能获取内部的任何属性和方法"
   ]
  },
  {
   "cell_type": "markdown",
   "metadata": {},
   "source": [
    "### 继承的相关问题"
   ]
  },
  {
   "cell_type": "markdown",
   "metadata": {},
   "source": [
    "ｐｙｔｈｏｎ没有严格意义上的多态"
   ]
  },
  {
   "cell_type": "markdown",
   "metadata": {},
   "source": [
    "多继承问题：尽量避开菱形继承问题，推荐使用ｍｉｘｉｎ的写法"
   ]
  },
  {
   "cell_type": "markdown",
   "metadata": {},
   "source": [
    "### super"
   ]
  },
  {
   "cell_type": "markdown",
   "metadata": {},
   "source": [
    "调用父类的方法，推荐使用ｓｕｐｅｒ，不直接调用"
   ]
  },
  {
   "cell_type": "code",
   "execution_count": null,
   "metadata": {},
   "outputs": [],
   "source": [
    "class D(B, C):\n",
    "    def __init__(self):\n",
    "        print('aaaaa')\n",
    "#         B.__init__(self) \n",
    "#         C.__init__(self) # 直接调用父类的方法\n",
    "        super().__init__() # 使用ｍｒｏ的算法来调用，一般不会出现重复的情况\n",
    "        print('bbbb')"
   ]
  },
  {
   "cell_type": "code",
   "execution_count": null,
   "metadata": {},
   "outputs": [],
   "source": []
  },
  {
   "cell_type": "code",
   "execution_count": null,
   "metadata": {},
   "outputs": [],
   "source": []
  },
  {
   "cell_type": "code",
   "execution_count": null,
   "metadata": {},
   "outputs": [],
   "source": []
  },
  {
   "cell_type": "code",
   "execution_count": null,
   "metadata": {},
   "outputs": [],
   "source": []
  }
 ],
 "metadata": {
  "kernelspec": {
   "display_name": "Python 3",
   "language": "python",
   "name": "python3"
  },
  "language_info": {
   "codemirror_mode": {
    "name": "ipython",
    "version": 3
   },
   "file_extension": ".py",
   "mimetype": "text/x-python",
   "name": "python",
   "nbconvert_exporter": "python",
   "pygments_lexer": "ipython3",
   "version": "3.6.4"
  }
 },
 "nbformat": 4,
 "nbformat_minor": 2
}
